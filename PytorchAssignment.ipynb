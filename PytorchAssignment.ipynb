{
 "cells": [
  {
   "cell_type": "markdown",
   "metadata": {
    "colab_type": "text",
    "id": "lLbsKY7JKbEw"
   },
   "source": [
    "# Assignment 1\n",
    "**Author:** Nirmal Kumar \\\\\n",
    "**email-id:**: s9nirama@stud.uni-saarland.de \\\\\n",
    "**Description:** A comprehensive introduction to Pytorch[**Note**: Use pytorch functions unless stated otherwise]"
   ]
  },
  {
   "cell_type": "markdown",
   "metadata": {
    "colab_type": "text",
    "id": "GIGwZjxUojtO"
   },
   "source": [
    "# Common definitions\n",
    "$\\newcommand{\\innerproduct}[2]{\\langle#1,#2\\rangle}$\n",
    "$[n] = \\{1, \\cdots, n\\}$ \\\\\n",
    "$\\innerproduct{x}{y} = \\sum_{i=1}^{n}x_iy_i, \\forall x, y \\in \\mathbb{R}^n$"
   ]
  },
  {
   "cell_type": "markdown",
   "metadata": {
    "colab_type": "text",
    "id": "Z7SvBsQJd3WE"
   },
   "source": [
    "# Question 1:(1 Point)\n",
    "## Use numpy and matplotlib for this question\n",
    "1. Generate $x \\in \\mathbb{R}^{100}$. Let $x = (x_1, \\cdots, x_{100}). \\forall i \\in [100], x_i \\in [0,20]$.\n",
    "2. Let $M = \\{0.5,1,1.5\\}, C = \\{ -20, 0, 20\\}$. Calculate $y_i = m*x_i + c $ where $m \\in M$ and $c \\in C$. \n",
    "3. Plot $y$ for all combinations of $m$ and $c$."
   ]
  },
  {
   "cell_type": "markdown",
   "metadata": {
    "colab_type": "text",
    "id": "wRprc6WEZsmk"
   },
   "source": [
    "# Question 2:(1 Point)\n",
    "Let $f: \\mathbb{R} \\mapsto \\mathbb{R}$. We define $f$ as:\n",
    "\\begin{equation*}\n",
    "  f(x) = sin(w(x)) \\text{ where } w(x) = \\frac{\\pi*x}{180}\n",
    "\\end{equation*}\n",
    "**To find:** $\\frac{\\partial f}{\\partial w}\\big|_{x=10}, \\frac{\\partial f}{\\partial x}\\big|_{x=10}$"
   ]
  },
  {
   "cell_type": "markdown",
   "metadata": {
    "colab_type": "text",
    "id": "FEQNIisLb406"
   },
   "source": [
    "# Question 3:(3 points)\n",
    "$\\newcommand{\\norm}[1]{\\left\\lVert#1\\right\\rVert}$\n",
    "Let $f : \\mathbb{R}^{n+1} \\mapsto \\mathbb{R}$. $f$ is defined as:\n",
    "\\begin{equation*}\n",
    "  f_w(\\tilde{x}) = \\frac{1}{2}\\norm{\\innerproduct{x}{w} - y}_2^2 + \\frac{1}{2}\\lambda\\norm{w}_2^2\n",
    "\\end{equation*}\n",
    "where $\\tilde{x} = (x,y), x \\in \\mathbb{R}^n$ and $y \\in \\mathbb{R}$. \n",
    "### Your task: Find $\\min_w f_w$\n",
    "NASA has been conducting some tests on its [airfoils](https://en.wikipedia.org/wiki/Airfoil). However these tests are expensive. Hence they are asking you for their help. They have posted their dataset that they collected [here](https://archive.ics.uci.edu/ml/datasets/Airfoil+Self-Noise). Our job is to help them predict the sound pressure on these airfoils given certain input parameters. Since we, the tutors, are really kind people, we have preprocessed[using *DataPreprocessing.py*] this data for your perusal. \n",
    "\n",
    "You are given a *dataset.csv* file. It contains $x$ and $y$. Each line should be read as follow: $x_1, x_2, x_3, x_4, x_5, y$ where $x = (x_1, \\cdots, x_5)$. There are 1503 datapoints.\n",
    "  1. Read the data from *dataset.csv* and store it in tensors in cpu. \n",
    "  2. Note that $f_w(\\tilde{x})$ is defined for only one such. For all datapoints we have \n",
    "  \\begin{equation*}\n",
    "    f_w(\\tilde{X}) = \\frac{1}{2}\\norm{Xw - Y}_2^2 + \\frac{1}{2}\\lambda\\norm{w}_2^2\n",
    "  \\end{equation*}\n",
    "  Here $X \\in \\mathbb{R}^{1503 \\times 5}$ and $y \\in \\mathbb{R}^{1503}$. For $\\lambda=1$, find $\\min_w f_w(\\tilde{X})$. Report the value.\n",
    "  3. Let $\\lambda \\in \\{0.1, 1, 100\\}$. Find $(\\min_w f_w(\\tilde{X}))$. Report the value for different $\\lambda$."
   ]
  },
  {
   "cell_type": "markdown",
   "metadata": {
    "colab_type": "text",
    "id": "OiegXLqMlAAC"
   },
   "source": [
    "# Question 4:(5 Points)\n",
    "This exercise gives you a taste of what you are going to learn in this course. So **dont panic** if you dont get it. It's fine. In hindsight it is quite easy. However, since most of you are new to this topic it is going feel like you are sitting inside a F-35 experiencing 5G. Dont worry. We chose this problem to get you started right away with pytorch. If you are having troubles ask in the course forum. We'll be there to help you. \n",
    "\n",
    "Let $f : \\{0,1\\} \\times \\{0,1\\} \\mapsto \\{0,1\\}. f$ is defined as follows:$\\begin{array}{|c|c|}\n",
    "    \\hline\n",
    "    f(0,0)&0\\\\\n",
    "    \\hline\n",
    "    f(0,1)&1\\\\\n",
    "    \\hline\n",
    "    f(1,0)&1\\\\\n",
    "    \\hline\n",
    "    f(1,1)&0\\\\\n",
    "    \\hline \n",
    "  \\end{array}$. This is an x-or function.\n",
    "### Your task: Model $f$ using Neural Network\n",
    "What does it mean? \n",
    "\n",
    "Let $f_{approx}(x)$ denote the feed-forward neural network. Let $f(x)$ and $C \\subset \\mathbb{R}^n$ be domain of $f$. Neural network is a function approximator (i.e) $\\forall x \\in D, f_{approx}(x) \\approx f(x)$ where $D \\subset C$[I am stretching the theory here. But, for this exercise this should be sufficient]. Here $D$ is the training data. Now, what is $f_{approx}?$ It is defined as\n",
    "\\begin{equation*}\n",
    "  f_{approx}(x) = (f_1 \\circ f_2 \\circ \\cdots \\circ f_n)(x)\n",
    "\\end{equation*}\n",
    "In a feed-forward neural network, the functions $f_i \\forall i \\in [n]$ takes specific forms. All this is abstracted away in pytorch. Below I am going to give you an outline of the steps that needs to be followed. Before you begin read [this](https://pytorch.org/tutorials/beginner/blitz/neural_networks_tutorial.html), \n",
    "  1. Create a 1-layer feedforwared neural network with 2 neurons[**Hint**: [Here](https://github.com/pytorch/tutorials/blob/8081dd7b67cd01180cb1b2033cfeda34a51ff6a3/beginner_source/blitz/neural_networks_tutorial.py#L38) is a good starting point. ]\n",
    "  2. Initialize the networks with weights[Refer to [this](https://stackoverflow.com/a/49433937)]\n",
    "  3. For this problem one can use binary cross entropy loss[torch.nn.BCELoss()]. Describe this loss\n",
    "    1. What does this mean ?\n",
    "    2. When does one use it ?\n",
    "    3. What loss does one use when $f(x) \\in [n]$.?\n",
    "  4. Augment the training data. We have only four values. But that is not enough to train the network effectively. How do we do that?[Think about redefining the domain of $f$]\n",
    "  5. Report the error. Does the error reduces if we have 3 neuros in the linear[torch.nn.Linear()] layer?\n",
    "  6. Why do we need a neural network ? Why not just use a linear classifier defined in question 3? \n"
   ]
  }
 ],
 "metadata": {
  "accelerator": "GPU",
  "colab": {
   "collapsed_sections": [],
   "name": "PytorchAssignment.ipynb",
   "provenance": []
  },
  "kernelspec": {
   "display_name": "Python 3",
   "language": "python",
   "name": "python3"
  },
  "language_info": {
   "codemirror_mode": {
    "name": "ipython",
    "version": 3
   },
   "file_extension": ".py",
   "mimetype": "text/x-python",
   "name": "python",
   "nbconvert_exporter": "python",
   "pygments_lexer": "ipython3",
   "version": "3.7.3"
  }
 },
 "nbformat": 4,
 "nbformat_minor": 1
}
