{
 "cells": [
  {
   "cell_type": "markdown",
   "metadata": {
    "colab_type": "text",
    "id": "BPmJP-snjOmE"
   },
   "source": [
    " *# Name Surname, matriculation and tutorial time slot of each group member*\n",
    "\n",
    "  Supreeth Mysore Venkatesh\n",
    "\n",
    "\n"
   ]
  },
  {
   "cell_type": "markdown",
   "metadata": {
    "colab_type": "text",
    "id": "sZk7NnxBkQE5"
   },
   "source": [
    "# Question 1"
   ]
  },
  {
   "cell_type": "code",
   "execution_count": 1,
   "metadata": {
    "colab": {
     "base_uri": "https://localhost:8080/",
     "height": 282
    },
    "colab_type": "code",
    "id": "Tz0LPCHDkTsf",
    "outputId": "87ccb547-6eb5-4d81-cd30-32ed1481cde5"
   },
   "outputs": [
    {
     "data": {
      "text/plain": [
       "<matplotlib.legend.Legend at 0x7fd4769152b0>"
      ]
     },
     "execution_count": 1,
     "metadata": {
      "tags": []
     },
     "output_type": "execute_result"
    },
    {
     "data": {
      "image/png": "[encoded data removed]",
      "text/plain": [
       "<Figure size 432x288 with 1 Axes>"
      ]
     },
     "metadata": {
      "tags": []
     },
     "output_type": "display_data"
    }
   ],
   "source": [
    "import numpy as np\n",
    "import torch\n",
    "import torchvision\n",
    "import matplotlib.pyplot as plt\n",
    "import random \n",
    "list1 = []\n",
    "for i in range(100):\n",
    "  x = random.randint(0, 20)\n",
    "  list1.append(x)\n",
    "arr = np.array(list1)\n",
    "m1 = 0.5\n",
    "m2 = 1\n",
    "m3 = 1.5\n",
    "c1 = -20\n",
    "c2 = 0\n",
    "c3 = 20\n",
    "for i in range(len(arr)):\n",
    "  y1=(m1*arr)+c1\n",
    "  y2=(m1*arr)+c2\n",
    "  y3=(m1*arr)+c3\n",
    "  y4=(m2*arr)+c1\n",
    "  y5=(m2*arr)+c2\n",
    "  y6=(m2*arr)+c3\n",
    "  y7=(m3*arr)+c1\n",
    "  y8=(m3*arr)+c2\n",
    "  y9=(m3*arr)+c3\n",
    "plt.plot(arr, y1, '-r', label='y1')\n",
    "plt.plot(arr, y2, '-b', label='y2')\n",
    "plt.plot(arr, y3, '-g', label='y3')\n",
    "plt.plot(arr, y4, '-y', label='y4')\n",
    "plt.plot(arr, y5, '-r', label='y5')\n",
    "plt.plot(arr, y6, '-b', label='y6')\n",
    "plt.plot(arr, y7, '-g', label='y7')\n",
    "plt.plot(arr, y8, '-y', label='y8')\n",
    "plt.plot(arr, y9, '-r', label='y9')\n",
    "plt.legend()"
   ]
  },
  {
   "cell_type": "markdown",
   "metadata": {
    "colab_type": "text",
    "id": "lWt2OOSAkcyO"
   },
   "source": [
    "# Question 2"
   ]
  },
  {
   "cell_type": "code",
   "execution_count": 2,
   "metadata": {
    "colab": {
     "base_uri": "https://localhost:8080/",
     "height": 51
    },
    "colab_type": "code",
    "id": "T92dorpBkfyO",
    "outputId": "3d4f497a-34f7-4bdf-9d05-f561659b0bf1"
   },
   "outputs": [
    {
     "name": "stdout",
     "output_type": "stream",
     "text": [
      "tensor([0.0172])\n",
      "tensor([0.9848])\n"
     ]
    }
   ],
   "source": [
    "import torch\n",
    "import numpy as np\n",
    "\n",
    "x = torch.autograd.Variable(torch.Tensor([10]),requires_grad=True) \n",
    "wprime = torch.autograd.Variable(torch.Tensor([(np.pi * x/180)]),requires_grad=True)\n",
    "w =(np.pi *x)/180\n",
    "#calculating dfdx\n",
    "f = torch.sin(w)\n",
    "dfdx = f.backward()\n",
    "print(x.grad)\n",
    "#calculating dfdw\n",
    "f = torch.sin(wprime)\n",
    "dfdw = f.backward()\n",
    "print(wprime.grad)"
   ]
  },
  {
   "cell_type": "markdown",
   "metadata": {
    "colab_type": "text",
    "id": "PEqapzRmknL-"
   },
   "source": [
    "# Question 3"
   ]
  },
  {
   "cell_type": "code",
   "execution_count": 0,
   "metadata": {
    "colab": {},
    "colab_type": "code",
    "id": "_VVrikmrkpYt"
   },
   "outputs": [],
   "source": [
    "import pandas as pd \n",
    "from torch.nn import Linear, Module, MSELoss\n",
    "dataset = pd.read_csv ('dataset.csv')\n",
    "import torch\n",
    "\n",
    "data = torch.tensor(dataset.values)\n",
    "\n",
    "dataset.head()\n",
    "Y = data[:, 5]\n",
    "X = data[:, 0:5]\n",
    "W = torch.rand(5,1)\n",
    "\n",
    "# for Lambda = 1\n",
    "\n",
    "lam=1\n",
    "W = torch.mm(torch.mm(torch.inverse(torch.add(torch.mm(X.t(),X),torch.eye(5))),X.t()),Y.view([1502,1]))\n",
    "#print(\"W=\",W)\n",
    "fx=torch.mm(X,W)\n",
    "print(fx)\n",
    "print(fx.shape)\n",
    "criterion = torch.nn.MSELoss()\n",
    "\n",
    "loss = 0.5 * criterion(fx,Y.view([1502,1]))\n",
    "loss = loss + 0.5 * lam * torch.mm(W.t(),W)\n",
    "print(loss)\n",
    "\n",
    "\n",
    "# for Lambda = 0.1\n",
    "\n",
    "lam=0.1\n",
    "W = torch.mm(torch.mm(torch.inverse(torch.add(torch.mm(X.t(),X),torch.eye(5))),X.t()),Y.view([1502,1]))\n",
    "#print(\"W=\",W)\n",
    "fx=torch.mm(X,W)\n",
    "print(fx)\n",
    "print(fx.shape)\n",
    "criterion = torch.nn.MSELoss()\n",
    "\n",
    "loss = 0.5 * criterion(fx,Y.view([1502,1]))\n",
    "loss = loss + 0.5 * lam * torch.mm(W.t(),W)\n",
    "print(loss)\n",
    "\n",
    "# for Lambda = 100\n",
    "\n",
    "lam=100\n",
    "W = torch.mm(torch.mm(torch.inverse(torch.add(torch.mm(X.t(),X),torch.eye(5))),X.t()),Y.view([1502,1]))\n",
    "#print(\"W=\",W)\n",
    "fx=torch.mm(X,W)\n",
    "print(fx)\n",
    "print(fx.shape)\n",
    "criterion = torch.nn.MSELoss()\n",
    "\n",
    "loss = 0.5 * criterion(fx,Y.view([1502,1]))\n",
    "loss = loss + 0.5 * lam * torch.mm(W.t(),W)\n",
    "print(loss)"
   ]
  },
  {
   "cell_type": "markdown",
   "metadata": {
    "colab_type": "text",
    "id": "fmeFfEYXkp-j"
   },
   "source": [
    "# Question 4"
   ]
  },
  {
   "cell_type": "code",
   "execution_count": 3,
   "metadata": {
    "colab": {
     "base_uri": "https://localhost:8080/",
     "height": 622
    },
    "colab_type": "code",
    "id": "vUi5r10sksp9",
    "outputId": "a6fda04f-2e7a-4816-fe6a-f090d4593e5d"
   },
   "outputs": [
    {
     "name": "stdout",
     "output_type": "stream",
     "text": [
      "0.0010745004983618855\n",
      "0.02138800173997879\n",
      "8.484807949571405e-07\n",
      "1.2789769243681803e-13\n",
      "2.4016344468691386e-12\n",
      "7.993605777301127e-13\n",
      "7.993605777301127e-13\n",
      "1.4210854715202004e-12\n",
      "1.4210854715202004e-14\n",
      "3.552713678800501e-13\n",
      "2.2737367544323206e-13\n",
      "6.004086117172847e-13\n",
      "9.094947017729282e-13\n",
      "3.552713678800501e-13\n",
      "5.115907697472721e-13\n",
      "1.2789769243681803e-13\n",
      "8.881784197001252e-14\n",
      "1.4210854715202004e-14\n",
      "5.684341886080802e-14\n",
      "1.4210854715202004e-14\n",
      "4.298783551348606e-13\n"
     ]
    },
    {
     "data": {
      "image/png": "[encoded data removed]",
      "text/plain": [
       "<Figure size 432x288 with 1 Axes>"
      ]
     },
     "metadata": {
      "tags": []
     },
     "output_type": "display_data"
    }
   ],
   "source": [
    "import torch\n",
    "from torch.autograd import Variable\n",
    "import torch.nn as nn\n",
    "import torch.nn.functional as F\n",
    "import torch.optim as optim\n",
    "import numpy as np\n",
    "import matplotlib.pyplot as plt\n",
    "%matplotlib inline\n",
    "\n",
    "X = torch.Tensor([[0,0],[0,1], [1,0], [1,1]])\n",
    "Y = torch.Tensor([0,1,1,0]).view(-1,1)\n",
    "\n",
    "class XOR(nn.Module):\n",
    "    def __init__(self, input_dim = 2, output_dim=1):\n",
    "        super(XOR, self).__init__()\n",
    "        self.lin1 = nn.Linear(input_dim, 2)\n",
    "        self.lin2 = nn.Linear(2, output_dim)\n",
    "    \n",
    "    def forward(self, x):\n",
    "        x = self.lin1(x)\n",
    "        x = torch.sigmoid(x)\n",
    "        x = self.lin2(x)\n",
    "        return x\n",
    "\n",
    "model = XOR()\n",
    "\n",
    "def weights_init(model):\n",
    "    for m in model.modules():\n",
    "        if isinstance(m, nn.Linear):\n",
    "            # initialize the weight tensor, here we use a normal distribution\n",
    "            m.weight.data.normal_(0, 1)\n",
    "\n",
    "weights_init(model)\n",
    "\n",
    "#Here we used mean squure error for the loss\n",
    "loss_func = nn.MSELoss()\n",
    "\n",
    "\n",
    "optimizer = optim.SGD(model.parameters(), lr=0.02, momentum=0.9)\n",
    "\n",
    "epochs = 2001\n",
    "steps = X.size(0)\n",
    "for i in range(epochs):\n",
    "    for j in range(steps):\n",
    "        data_point = np.random.randint(X.size(0))\n",
    "        x_var = Variable(X[data_point], requires_grad=True)\n",
    "        y_var = Variable(Y[data_point], requires_grad=True)\n",
    "        \n",
    "        optimizer.zero_grad()\n",
    "        y_hat = model(x_var)\n",
    "        loss = loss_func.forward(y_hat, y_var)\n",
    "        loss.backward()\n",
    "        optimizer.step()\n",
    "        \n",
    "    if i %100 == 0:\n",
    "        print(loss.item())\n",
    "\n",
    "model_params = list(model.parameters())\n",
    "\n",
    "model_weights = model_params[0].data.numpy()\n",
    "model_bias = model_params[1].data.numpy()\n",
    "\n",
    "plt.scatter(X.numpy()[[0,-1], 0], X.numpy()[[0, -1], 1], c='blue', s=50)\n",
    "plt.scatter(X.numpy()[[1,2], 0], X.numpy()[[1, 2], 1], c='green', s=50)\n",
    "\n",
    "x_1 = np.arange(-0.1, 1.1, 0.1)\n",
    "y_1 = ((x_1 * model_weights[0,0]) + model_bias[0]) / (-model_weights[0,1])\n",
    "plt.plot(x_1, y_1)\n",
    "  \n",
    "x_2 = np.arange(-0.1, 1.1, 0.1)\n",
    "y_2 = ((x_2 * model_weights[1,0]) + model_bias[1]) / (-model_weights[1,1])\n",
    "plt.plot(x_2, y_2)\n",
    "plt.legend([\"neuron_1\", \"neuron_2\"], loc=8)\n",
    "plt.show()"
   ]
  },
  {
   "cell_type": "markdown",
   "metadata": {
    "colab_type": "text",
    "id": "-24fdNWlk0nN"
   },
   "source": [
    "\n",
    "\n",
    "3.   In this problem we used MSE loss, but we can also use the cross entropy loss. It measures the difference between two probability distributions. It can be used as a loss function when optimizing classification models like logistic regression.\n",
    "\n",
    "4.   In this example we have only four values for training our network which is not enough for training the net. But we can repeat our training function 1000 or 2000 times s.t. each time our loss will be decrease and network will be trained effectively.\n",
    "\n",
    "5.   ![alt text](https://ibb.co/KbTyf2W) \n",
    "with the help of this link, we tried to illustrate that even if we have 3 linear layers instead of just 1 hidden layer, the result will not change, error will not reduce. Because instead of constructing 3 layers which have linear relationship to each other, we can merge them to one layer and get the same result. All the weight coeffisients will sum up to some other scalar and will affect the nodes linearly.\n",
    "\n",
    "6.    Neural Network helps us to separate or distingiush two different classes by using non linear function. But with the linear classifiers we can not separate them. A simple example can be XOR function which cannot be separated by a linear function. As shown in the graphic of 4th question, 4 points are inputs of XOR function and the colours represent similar values i.e. blues are 0s and greens are 1s. So, we can say that it is not possible to separate 0s and 1s with the linear function (line).\n",
    "Remark: If we dont use any non linearity in our neural network, then it behaves same as linear function. In our example above, we used sigmoid function to make our function a non linear.\n",
    "\n",
    "\n"
   ]
  }
 ],
 "metadata": {
  "colab": {
   "name": "Assignment 1.ipynb",
   "provenance": []
  },
  "kernelspec": {
   "display_name": "Python 3",
   "language": "python",
   "name": "python3"
  },
  "language_info": {
   "codemirror_mode": {
    "name": "ipython",
    "version": 3
   },
   "file_extension": ".py",
   "mimetype": "text/x-python",
   "name": "python",
   "nbconvert_exporter": "python",
   "pygments_lexer": "ipython3",
   "version": "3.7.3"
  }
 },
 "nbformat": 4,
 "nbformat_minor": 1
}
